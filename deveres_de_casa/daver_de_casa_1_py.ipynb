{
  "nbformat": 4,
  "nbformat_minor": 0,
  "metadata": {
    "colab": {
      "provenance": [],
      "authorship_tag": "ABX9TyP7ThmFKTDcQF/z6n0gSgi2",
      "include_colab_link": true
    },
    "kernelspec": {
      "name": "python3",
      "display_name": "Python 3"
    },
    "language_info": {
      "name": "python"
    }
  },
  "cells": [
    {
      "cell_type": "markdown",
      "metadata": {
        "id": "view-in-github",
        "colab_type": "text"
      },
      "source": [
        "<a href=\"https://colab.research.google.com/github/adriellymd/teste/blob/main/deveres_de_casa/daver_de_casa_1_py.ipynb\" target=\"_parent\"><img src=\"https://colab.research.google.com/assets/colab-badge.svg\" alt=\"Open In Colab\"/></a>"
      ]
    },
    {
      "cell_type": "code",
      "source": [
        "\n"
      ],
      "metadata": {
        "id": "KCiIfg_fqK5s"
      },
      "execution_count": null,
      "outputs": []
    },
    {
      "cell_type": "code",
      "source": [
        "!pip install pandas"
      ],
      "metadata": {
        "id": "-2XWxmjXl9q-"
      },
      "execution_count": null,
      "outputs": []
    },
    {
      "cell_type": "code",
      "source": [
        "import pandas as pd\n",
        "\n",
        "nomes = [\"Adrielly\", \"Mariele\", \"Mariana\", \"Davi\",\"Adriana\"]\n",
        "data_de_nascimento = [\"28/01/2004\", \"21/05/2000\", \"03/02/2000\", \"04/10/2016\", \"06/01/1986\"]\n",
        "dia_do_cadastro = [\"28/01/2025\", \"21/01/2025\", \"03/01/2025\", \"04/01/2025\", \"06/01/2025\"]\n",
        "hora_do_cadastro = [\"12:15\", \"15:18\",\"16:14\",\"11:03\",\"13:05\"]\n",
        "\n",
        "dados = {\n",
        "    'nome':nomes,\n",
        "    'data_de_nascimento':data_de_nascimento,\n",
        "    'dia_do_cadastro':dia_do_cadastro,\n",
        "    'hora_do_cadastro':hora_do_cadastro\n",
        "}\n",
        "\n",
        "df = pd.DataFrame(dados)\n",
        "df.to_csv('dados.csv') #criando csv\n",
        "#print(df)\n",
        "\n",
        "df = pd.read_csv('dados.csv') #lendo csv\n",
        "\n",
        "opcao = int(input(\"Digite um número(1 a 5): \"))\n",
        "\n",
        "print(f\"Registro {opcao}: Nome: {df['nome'][opcao-1]}; Data de Nascimento: {df['data_de_nascimento'][opcao-1]}; Dia do Cadastro: {df['dia_do_cadastro'][opcao-1]} as {df['hora_do_cadastro'][opcao-1]}\")\n"
      ],
      "metadata": {
        "id": "ZoF6KruhfERB",
        "colab": {
          "base_uri": "https://localhost:8080/"
        },
        "outputId": "1cf1fa72-be68-479f-f163-abdf4143cc17"
      },
      "execution_count": 29,
      "outputs": [
        {
          "output_type": "stream",
          "name": "stdout",
          "text": [
            "Digite um número(1 a 5): 3\n",
            "Registro 3: Nome: Mariana; Data de Nascimento: 03/02/2000; Dia do Cadastro: 03/01/2025 as 16:14\n"
          ]
        }
      ]
    },
    {
      "cell_type": "code",
      "source": [],
      "metadata": {
        "id": "kXPaIguZp02s"
      },
      "execution_count": null,
      "outputs": []
    }
  ]
}