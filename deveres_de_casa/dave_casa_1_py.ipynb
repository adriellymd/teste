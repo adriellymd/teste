{
  "nbformat": 4,
  "nbformat_minor": 0,
  "metadata": {
    "colab": {
      "provenance": [],
      "authorship_tag": "ABX9TyNjl8LKRJ+pcFydoxneLLB/",
      "include_colab_link": true
    },
    "kernelspec": {
      "name": "python3",
      "display_name": "Python 3"
    },
    "language_info": {
      "name": "python"
    }
  },
  "cells": [
    {
      "cell_type": "markdown",
      "metadata": {
        "id": "view-in-github",
        "colab_type": "text"
      },
      "source": [
        "<a href=\"https://colab.research.google.com/github/adriellymd/teste/blob/main/deveres_de_casa/dave_casa_1_py.ipynb\" target=\"_parent\"><img src=\"https://colab.research.google.com/assets/colab-badge.svg\" alt=\"Open In Colab\"/></a>"
      ]
    },
    {
      "cell_type": "markdown",
      "source": [],
      "metadata": {
        "id": "ZmyxNwNEh9hy"
      }
    },
    {
      "cell_type": "code",
      "source": [
        "!pip install pandas"
      ],
      "metadata": {
        "id": "-2XWxmjXl9q-"
      },
      "execution_count": null,
      "outputs": []
    },
    {
      "cell_type": "code",
      "source": [
        "import pandas as pd\n",
        "\n",
        "nomes = [\"Adrielly\", \"Mariele\", \"Mariana\", \"Davi\",\"Adriana\"]\n",
        "data_de_nascimento = [\"28/01/2004\", \"21/05/2000\", \"03/02/2000\", \"04/10/2016\", \"06/01/1986\"]\n",
        "dia_do_cadastro = [\"28/01/2025\", \"21/01/2025\", \"03/01/2025\", \"04/01/2025\", \"06/01/2025\"]\n",
        "hora_do_cadastro = [\"12:15\", \"15:18\",\"16:14\",\"11:03\",\"13:05\"]\n",
        "\n",
        "dados = {\n",
        "    'nome':nomes,\n",
        "    'data_de_nascimento':data_de_nascimento,\n",
        "    'dia_do_cadastro':dia_do_cadastro,\n",
        "    'hora_do_cadastro':hora_do_cadastro\n",
        "}\n",
        "\n",
        "df = pd.DataFrame(dados)\n",
        "print(df)\n",
        "\n",
        "df.to_csv('dados.csv', index=False)"
      ],
      "metadata": {
        "id": "ZoF6KruhfERB",
        "colab": {
          "base_uri": "https://localhost:8080/"
        },
        "outputId": "59ca0465-fbc8-47ed-a5bc-f58ee5f889e9"
      },
      "execution_count": 4,
      "outputs": [
        {
          "output_type": "stream",
          "name": "stdout",
          "text": [
            "       nome data_de_nascimento dia_do_cadastro hora_do_cadastro\n",
            "0  Adrielly         28/01/2004      28/01/2025            12:15\n",
            "1   Mariele         21/05/2000      21/01/2025            15:18\n",
            "2   Mariana         03/02/2000      03/01/2025            16:14\n",
            "3      Davi         04/10/2016      04/01/2025            11:03\n",
            "4   Adriana         06/01/1986      06/01/2025            13:05\n"
          ]
        }
      ]
    }
  ]
}